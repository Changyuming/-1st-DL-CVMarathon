{
 "cells": [
  {
   "cell_type": "markdown",
   "metadata": {},
   "source": [
    "## [作業目標]\n",
    "了解機器學習適合應用的領域與範疇。"
   ]
  },
  {
   "cell_type": "markdown",
   "metadata": {},
   "source": [
    "## [作業重點]\n",
    "透過瞭解機器學習的運作方式，找出非常適用機器學習應用的領域及其原因"
   ]
  },
  {
   "cell_type": "markdown",
   "metadata": {},
   "source": [
    "## 作業\n",
    "請找出一個你認為機器學習可以發光發熱的領域並闡述原因? "
   ]
  },
  {
   "cell_type": "code",
   "execution_count": null,
   "metadata": {},
   "outputs": [],
   "source": [
    "    我認為可以將機器學習用在醫療上，可根據病人的病狀，開對應的處方籤。\n",
    "    我之所以認為這件事情可行的原因，在於現在當我們生病或是小感冒時，會到診所去看診，\n",
    "而醫生看診的步驟不外乎問這些症狀何時開始，透過聽診等...經過標準的SOP，接著開出處方簽。\n",
    "可以蒐集這些步驟上取得的特徵(病徵)與處方簽，作為成對的(x,y)利用監督式學習的方式，訓練\n",
    "出可以判斷病人的狀況並開出處方簽的模型。而台灣的健保制度，似乎是一個相當豐富的資料庫，\n",
    "可以用來嘗試並驗正。"
   ]
  }
 ],
 "metadata": {
  "kernelspec": {
   "display_name": "Python 3",
   "language": "python",
   "name": "python3"
  },
  "language_info": {
   "codemirror_mode": {
    "name": "ipython",
    "version": 3
   },
   "file_extension": ".py",
   "mimetype": "text/x-python",
   "name": "python",
   "nbconvert_exporter": "python",
   "pygments_lexer": "ipython3",
   "version": "3.6.6"
  }
 },
 "nbformat": 4,
 "nbformat_minor": 2
}
